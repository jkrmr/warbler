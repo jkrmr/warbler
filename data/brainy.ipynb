{
 "cells": [
  {
   "cell_type": "code",
   "execution_count": 2,
   "metadata": {
    "collapsed": false
   },
   "outputs": [],
   "source": [
    "import pandas as pd\n",
    "import numpy as np\n",
    "import time\n",
    "import redis\n",
    "from sklearn.feature_extraction.text import TfidfVectorizer\n",
    "from sklearn.metrics.pairwise import linear_kernel\n",
    "\n",
    "class ContentRecommender(object):\n",
    "    SIMKEY = 'p:smlr:%s'\n",
    "    \n",
    "    def __init__(self):\n",
    "        self._r = redis.StrictRedis.from_url(\"redis://localhost:6379\")\n",
    "        \n",
    "    def predict(self, item_id, num):\n",
    "        return self._r.zrange(self.SIMKEY % item_id, 0, num-1, withscores=False, desc=True)\n",
    "    \n",
    "    def train(self, csv_path):\n",
    "        start = time.time()\n",
    "        self._ingest_training_data()\n",
    "        print(\"Training data ingested in %s seconds.\" % (time.time() - start))\n",
    "        \n",
    "        start = time.time()\n",
    "        self._train_engine(df)\n",
    "        print(\"Engine trained in %s seconds.\" % (time.time() - start))\n",
    "        \n",
    "    def _ingest_training_data():\n",
    "        df = pd.read_csv(csv_path)\n",
    "        \n",
    "    def _train_engine(self, data_frame):\n",
    "        tf = TfidfVectorizer(analyzer='word', ngram_range=(1, 3), min_df=0, stop_words='english')\n",
    "        content = data_frame['content']\n",
    "        tfidf_matrix = tf.fit_transform(content)\n",
    "        \n",
    "        cosine_similarities = linear_kernel(tfidf_matrix, tfidf_matrix)\n",
    "        \n",
    "        for idx, row in data_frame.iterrows():\n",
    "            similar_indices = cosine_similarities[idx].argsort()[:-100:-1]\n",
    "            similar_items = [(cosine_similarities[idx][i], data_frame['id'][i]) for i in similar_indices]\n",
    "            flattened = sum(similar_items[1:], ())\n",
    "            self._r.zadd(self.SIMKEY % row['id'], *flattened)\n"
   ]
  },
  {
   "cell_type": "code",
   "execution_count": 5,
   "metadata": {
    "collapsed": false
   },
   "outputs": [
    {
     "name": "stdout",
     "output_type": "stream",
     "text": [
      "Training data ingested in 0.008157968521118164 seconds.\n",
      "Engine trained in 7.538815259933472 seconds.\n"
     ]
    }
   ],
   "source": [
    "rec = ContentRecommender()\n",
    "rec.train(\"./squawks.csv\")"
   ]
  },
  {
   "cell_type": "code",
   "execution_count": 10,
   "metadata": {
    "collapsed": false
   },
   "outputs": [],
   "source": [
    "import pandas as pd\n",
    "squawks = pd.read_csv(\"./squawks.csv\")"
   ]
  },
  {
   "cell_type": "code",
   "execution_count": 12,
   "metadata": {
    "collapsed": false
   },
   "outputs": [
    {
     "data": {
      "text/plain": [
       "[b'1392', b'1654']"
      ]
     },
     "execution_count": 12,
     "metadata": {},
     "output_type": "execute_result"
    }
   ],
   "source": [
    "rec.predict(3, 2)"
   ]
  },
  {
   "cell_type": "code",
   "execution_count": 20,
   "metadata": {
    "collapsed": false
   },
   "outputs": [
    {
     "data": {
      "text/html": [
       "<div>\n",
       "<table border=\"1\" class=\"dataframe\">\n",
       "  <thead>\n",
       "    <tr style=\"text-align: right;\">\n",
       "      <th></th>\n",
       "      <th>id</th>\n",
       "      <th>content</th>\n",
       "      <th>user_id</th>\n",
       "      <th>created_at</th>\n",
       "      <th>updated_at</th>\n",
       "      <th>likes_count</th>\n",
       "      <th>flags_count</th>\n",
       "    </tr>\n",
       "  </thead>\n",
       "  <tbody>\n",
       "    <tr>\n",
       "      <th>1374</th>\n",
       "      <td>1392</td>\n",
       "      <td>FACEBOOK IS BUYING WHATSAPP FOR $16 BILLION  —...</td>\n",
       "      <td>39</td>\n",
       "      <td>2014-02-19 22:32:34</td>\n",
       "      <td>2014-02-19 22:32:34</td>\n",
       "      <td>0</td>\n",
       "      <td>0</td>\n",
       "    </tr>\n",
       "  </tbody>\n",
       "</table>\n",
       "</div>"
      ],
      "text/plain": [
       "        id                                            content  user_id  \\\n",
       "1374  1392  FACEBOOK IS BUYING WHATSAPP FOR $16 BILLION  —...       39   \n",
       "\n",
       "               created_at           updated_at  likes_count  flags_count  \n",
       "1374  2014-02-19 22:32:34  2014-02-19 22:32:34            0            0  "
      ]
     },
     "execution_count": 20,
     "metadata": {},
     "output_type": "execute_result"
    }
   ],
   "source": [
    "squawks[squawks[\"id\"] == 1392]"
   ]
  },
  {
   "cell_type": "code",
   "execution_count": 22,
   "metadata": {
    "collapsed": false
   },
   "outputs": [
    {
     "data": {
      "text/html": [
       "<div>\n",
       "<table border=\"1\" class=\"dataframe\">\n",
       "  <thead>\n",
       "    <tr style=\"text-align: right;\">\n",
       "      <th></th>\n",
       "      <th>id</th>\n",
       "      <th>content</th>\n",
       "      <th>user_id</th>\n",
       "      <th>created_at</th>\n",
       "      <th>updated_at</th>\n",
       "      <th>likes_count</th>\n",
       "      <th>flags_count</th>\n",
       "    </tr>\n",
       "  </thead>\n",
       "  <tbody>\n",
       "    <tr>\n",
       "      <th>1637</th>\n",
       "      <td>1654</td>\n",
       "      <td>FACEBOOK IS BUYING MESSAGING APP WHATSAPP FOR ...</td>\n",
       "      <td>44</td>\n",
       "      <td>2014-02-20 00:01:30</td>\n",
       "      <td>2014-02-20 00:01:30</td>\n",
       "      <td>0</td>\n",
       "      <td>0</td>\n",
       "    </tr>\n",
       "  </tbody>\n",
       "</table>\n",
       "</div>"
      ],
      "text/plain": [
       "        id                                            content  user_id  \\\n",
       "1637  1654  FACEBOOK IS BUYING MESSAGING APP WHATSAPP FOR ...       44   \n",
       "\n",
       "               created_at           updated_at  likes_count  flags_count  \n",
       "1637  2014-02-20 00:01:30  2014-02-20 00:01:30            0            0  "
      ]
     },
     "execution_count": 22,
     "metadata": {},
     "output_type": "execute_result"
    }
   ],
   "source": [
    "squawks[squawks[\"id\"] == 1654]"
   ]
  },
  {
   "cell_type": "code",
   "execution_count": 23,
   "metadata": {
    "collapsed": false
   },
   "outputs": [
    {
     "data": {
      "text/html": [
       "<div>\n",
       "<table border=\"1\" class=\"dataframe\">\n",
       "  <thead>\n",
       "    <tr style=\"text-align: right;\">\n",
       "      <th></th>\n",
       "      <th>id</th>\n",
       "      <th>content</th>\n",
       "      <th>user_id</th>\n",
       "      <th>created_at</th>\n",
       "      <th>updated_at</th>\n",
       "      <th>likes_count</th>\n",
       "      <th>flags_count</th>\n",
       "    </tr>\n",
       "  </thead>\n",
       "  <tbody>\n",
       "    <tr>\n",
       "      <th>2</th>\n",
       "      <td>3</td>\n",
       "      <td>APPARENTLY FACEBOOK ARE BUYING WHATSAPP FOR $1...</td>\n",
       "      <td>1</td>\n",
       "      <td>2014-02-19 22:40:58</td>\n",
       "      <td>2014-02-19 22:40:58</td>\n",
       "      <td>0</td>\n",
       "      <td>0</td>\n",
       "    </tr>\n",
       "  </tbody>\n",
       "</table>\n",
       "</div>"
      ],
      "text/plain": [
       "   id                                            content  user_id  \\\n",
       "2   3  APPARENTLY FACEBOOK ARE BUYING WHATSAPP FOR $1...        1   \n",
       "\n",
       "            created_at           updated_at  likes_count  flags_count  \n",
       "2  2014-02-19 22:40:58  2014-02-19 22:40:58            0            0  "
      ]
     },
     "execution_count": 23,
     "metadata": {},
     "output_type": "execute_result"
    }
   ],
   "source": [
    "squawks[squawks[\"id\"] == 3]"
   ]
  }
 ],
 "metadata": {
  "kernelspec": {
   "display_name": "Python 3",
   "language": "python",
   "name": "python3"
  },
  "language_info": {
   "codemirror_mode": {
    "name": "ipython",
    "version": 3
   },
   "file_extension": ".py",
   "mimetype": "text/x-python",
   "name": "python",
   "nbconvert_exporter": "python",
   "pygments_lexer": "ipython3",
   "version": "3.6.0"
  }
 },
 "nbformat": 4,
 "nbformat_minor": 2
}
